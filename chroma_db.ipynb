{
  "nbformat": 4,
  "nbformat_minor": 0,
  "metadata": {
    "colab": {
      "provenance": [],
      "authorship_tag": "ABX9TyNZaiIJN/E1VX+OntxVmnMI",
      "include_colab_link": true
    },
    "kernelspec": {
      "name": "python3",
      "display_name": "Python 3"
    },
    "language_info": {
      "name": "python"
    }
  },
  "cells": [
    {
      "cell_type": "markdown",
      "metadata": {
        "id": "view-in-github",
        "colab_type": "text"
      },
      "source": [
        "<a href=\"https://colab.research.google.com/github/BhathiyaPrasad/chroma_db/blob/main/chroma_db.ipynb\" target=\"_parent\"><img src=\"https://colab.research.google.com/assets/colab-badge.svg\" alt=\"Open In Colab\"/></a>"
      ]
    },
    {
      "cell_type": "code",
      "execution_count": 7,
      "metadata": {
        "colab": {
          "base_uri": "https://localhost:8080/"
        },
        "id": "SjaPPGtXbzMp",
        "outputId": "91d4a106-378a-46d0-aa79-c38908aba6c1"
      },
      "outputs": [
        {
          "output_type": "stream",
          "name": "stdout",
          "text": [
            "\u001b[?25l     \u001b[90m━━━━━━━━━━━━━━━━━━━━━━━━━━━━━━━━━━━━━━━━\u001b[0m \u001b[32m0.0/67.3 kB\u001b[0m \u001b[31m?\u001b[0m eta \u001b[36m-:--:--\u001b[0m\r\u001b[2K     \u001b[90m━━━━━━━━━━━━━━━━━━━━━━━━━━━━━━━━━━━━━━━━\u001b[0m \u001b[32m67.3/67.3 kB\u001b[0m \u001b[31m3.5 MB/s\u001b[0m eta \u001b[36m0:00:00\u001b[0m\n",
            "\u001b[?25h  Installing build dependencies ... \u001b[?25l\u001b[?25hdone\n",
            "  Getting requirements to build wheel ... \u001b[?25l\u001b[?25hdone\n",
            "  Preparing metadata (pyproject.toml) ... \u001b[?25l\u001b[?25hdone\n",
            "\u001b[2K   \u001b[90m━━━━━━━━━━━━━━━━━━━━━━━━━━━━━━━━━━━━━━━━\u001b[0m \u001b[32m611.1/611.1 kB\u001b[0m \u001b[31m13.0 MB/s\u001b[0m eta \u001b[36m0:00:00\u001b[0m\n",
            "\u001b[2K   \u001b[90m━━━━━━━━━━━━━━━━━━━━━━━━━━━━━━━━━━━━━━━━\u001b[0m \u001b[32m2.4/2.4 MB\u001b[0m \u001b[31m51.8 MB/s\u001b[0m eta \u001b[36m0:00:00\u001b[0m\n",
            "\u001b[2K   \u001b[90m━━━━━━━━━━━━━━━━━━━━━━━━━━━━━━━━━━━━━━━━\u001b[0m \u001b[32m284.2/284.2 kB\u001b[0m \u001b[31m22.8 MB/s\u001b[0m eta \u001b[36m0:00:00\u001b[0m\n",
            "\u001b[2K   \u001b[90m━━━━━━━━━━━━━━━━━━━━━━━━━━━━━━━━━━━━━━━━\u001b[0m \u001b[32m94.9/94.9 kB\u001b[0m \u001b[31m8.8 MB/s\u001b[0m eta \u001b[36m0:00:00\u001b[0m\n",
            "\u001b[2K   \u001b[90m━━━━━━━━━━━━━━━━━━━━━━━━━━━━━━━━━━━━━━━━\u001b[0m \u001b[32m2.0/2.0 MB\u001b[0m \u001b[31m69.8 MB/s\u001b[0m eta \u001b[36m0:00:00\u001b[0m\n",
            "\u001b[2K   \u001b[90m━━━━━━━━━━━━━━━━━━━━━━━━━━━━━━━━━━━━━━━━\u001b[0m \u001b[32m101.6/101.6 kB\u001b[0m \u001b[31m9.0 MB/s\u001b[0m eta \u001b[36m0:00:00\u001b[0m\n",
            "\u001b[2K   \u001b[90m━━━━━━━━━━━━━━━━━━━━━━━━━━━━━━━━━━━━━━━━\u001b[0m \u001b[32m13.3/13.3 MB\u001b[0m \u001b[31m80.2 MB/s\u001b[0m eta \u001b[36m0:00:00\u001b[0m\n",
            "\u001b[2K   \u001b[90m━━━━━━━━━━━━━━━━━━━━━━━━━━━━━━━━━━━━━━━━\u001b[0m \u001b[32m55.9/55.9 kB\u001b[0m \u001b[31m5.2 MB/s\u001b[0m eta \u001b[36m0:00:00\u001b[0m\n",
            "\u001b[2K   \u001b[90m━━━━━━━━━━━━━━━━━━━━━━━━━━━━━━━━━━━━━━━━\u001b[0m \u001b[32m177.4/177.4 kB\u001b[0m \u001b[31m16.4 MB/s\u001b[0m eta \u001b[36m0:00:00\u001b[0m\n",
            "\u001b[2K   \u001b[90m━━━━━━━━━━━━━━━━━━━━━━━━━━━━━━━━━━━━━━━━\u001b[0m \u001b[32m65.0/65.0 kB\u001b[0m \u001b[31m5.3 MB/s\u001b[0m eta \u001b[36m0:00:00\u001b[0m\n",
            "\u001b[2K   \u001b[90m━━━━━━━━━━━━━━━━━━━━━━━━━━━━━━━━━━━━━━━━\u001b[0m \u001b[32m118.7/118.7 kB\u001b[0m \u001b[31m9.4 MB/s\u001b[0m eta \u001b[36m0:00:00\u001b[0m\n",
            "\u001b[2K   \u001b[90m━━━━━━━━━━━━━━━━━━━━━━━━━━━━━━━━━━━━━━━━\u001b[0m \u001b[32m76.6/76.6 kB\u001b[0m \u001b[31m6.7 MB/s\u001b[0m eta \u001b[36m0:00:00\u001b[0m\n",
            "\u001b[2K   \u001b[90m━━━━━━━━━━━━━━━━━━━━━━━━━━━━━━━━━━━━━━━━\u001b[0m \u001b[32m62.3/62.3 kB\u001b[0m \u001b[31m5.4 MB/s\u001b[0m eta \u001b[36m0:00:00\u001b[0m\n",
            "\u001b[2K   \u001b[90m━━━━━━━━━━━━━━━━━━━━━━━━━━━━━━━━━━━━━━━━\u001b[0m \u001b[32m459.8/459.8 kB\u001b[0m \u001b[31m31.3 MB/s\u001b[0m eta \u001b[36m0:00:00\u001b[0m\n",
            "\u001b[2K   \u001b[90m━━━━━━━━━━━━━━━━━━━━━━━━━━━━━━━━━━━━━━━━\u001b[0m \u001b[32m319.7/319.7 kB\u001b[0m \u001b[31m25.8 MB/s\u001b[0m eta \u001b[36m0:00:00\u001b[0m\n",
            "\u001b[2K   \u001b[90m━━━━━━━━━━━━━━━━━━━━━━━━━━━━━━━━━━━━━━━━\u001b[0m \u001b[32m72.0/72.0 kB\u001b[0m \u001b[31m5.8 MB/s\u001b[0m eta \u001b[36m0:00:00\u001b[0m\n",
            "\u001b[2K   \u001b[90m━━━━━━━━━━━━━━━━━━━━━━━━━━━━━━━━━━━━━━━━\u001b[0m \u001b[32m4.0/4.0 MB\u001b[0m \u001b[31m89.2 MB/s\u001b[0m eta \u001b[36m0:00:00\u001b[0m\n",
            "\u001b[2K   \u001b[90m━━━━━━━━━━━━━━━━━━━━━━━━━━━━━━━━━━━━━━━━\u001b[0m \u001b[32m452.6/452.6 kB\u001b[0m \u001b[31m32.5 MB/s\u001b[0m eta \u001b[36m0:00:00\u001b[0m\n",
            "\u001b[2K   \u001b[90m━━━━━━━━━━━━━━━━━━━━━━━━━━━━━━━━━━━━━━━━\u001b[0m \u001b[32m46.0/46.0 kB\u001b[0m \u001b[31m3.4 MB/s\u001b[0m eta \u001b[36m0:00:00\u001b[0m\n",
            "\u001b[2K   \u001b[90m━━━━━━━━━━━━━━━━━━━━━━━━━━━━━━━━━━━━━━━━\u001b[0m \u001b[32m86.8/86.8 kB\u001b[0m \u001b[31m7.5 MB/s\u001b[0m eta \u001b[36m0:00:00\u001b[0m\n",
            "\u001b[?25h  Building wheel for pypika (pyproject.toml) ... \u001b[?25l\u001b[?25hdone\n"
          ]
        }
      ],
      "source": [
        "!pip install chromadb -q"
      ]
    },
    {
      "cell_type": "code",
      "source": [
        "# create chromadb client\n",
        "\n",
        "import chromadb\n",
        "\n",
        "client = chromadb.Client()\n"
      ],
      "metadata": {
        "id": "hXiI6M0hcgaf"
      },
      "execution_count": 8,
      "outputs": []
    },
    {
      "cell_type": "code",
      "source": [
        "client"
      ],
      "metadata": {
        "colab": {
          "base_uri": "https://localhost:8080/"
        },
        "id": "1BTaKde-cjky",
        "outputId": "cf3b37f7-4f3b-440e-d3c0-2184aad61f76"
      },
      "execution_count": null,
      "outputs": [
        {
          "output_type": "execute_result",
          "data": {
            "text/plain": [
              "<chromadb.api.client.Client at 0x7b058a759510>"
            ]
          },
          "metadata": {},
          "execution_count": 5
        }
      ]
    },
    {
      "cell_type": "code",
      "source": [
        "# create chromadb collection\n",
        "\n",
        "collection = client.create_collection('database_collection')\n",
        "\n"
      ],
      "metadata": {
        "id": "d51vhK5mmRiE"
      },
      "execution_count": 9,
      "outputs": []
    },
    {
      "cell_type": "code",
      "source": [
        "# add data to database\n",
        "cricket_news = \"The next captain of the Sri Lankan T20 sports cricket team will be Bhanuka Rajapaksa. Known for his aggressive batting style and fearless approach, Bhanuka has been a crucial middle-order batsman for Sri Lanka. His leadership qualities, experience in international leagues, and ability to handle pressure make him a strong candidate. Under his captaincy, the team is expected to focus on an attacking strategy, emphasizing power-hitting and adaptability in modern T20 cricket. With young talents like Pathum Nissanka and Wanindu Hasaranga in the squad, Sri Lanka aims to rebuild and compete strongly in upcoming ICC tournaments sports\"\n",
        "football_news = \"Lionel Messi has reached an astonishing milestone of 2,000 career goals, cementing his legacy as one of the greatest footballers of all time. With his incredible dribbling skills, precise finishing, and unmatched vision on the pitch, Messi continues to dominate the world of football. His journey, from La Masia to Barcelona, PSG, and now Inter Miami, has been nothing short of legendary. As he keeps setting new records, fans around the world celebrate his contributions to the beautiful game, proving why he remains a true icon of football\"\n",
        "youtube_news = \"The most popular YouTube channel is BhathiyaPrasad. Known for its engaging content, high-quality production, and diverse topics, BhathiyaPrasad has gained a massive following across various demographics. The channel primarily focuses on tech reviews, lifestyle vlogs, and educational content, making it a go-to source for viewers seeking informative and entertaining videos. With a rapidly growing subscriber base and viral content strategy, BhathiyaPrasad continues to dominate YouTube trends, setting new benchmarks in digital content creation\""
      ],
      "metadata": {
        "id": "54KIRYtCmned"
      },
      "execution_count": 34,
      "outputs": []
    },
    {
      "cell_type": "code",
      "source": [
        "collection.add(\n",
        "    documents=[cricket_news, youtube_news ,football_news ],\n",
        "    metadatas=[{'source': 'cricket'}, {'source': 'youtube'} , {'source':'football'}],\n",
        "    ids=['id1', 'id2' , 'id3']\n",
        ")"
      ],
      "metadata": {
        "colab": {
          "base_uri": "https://localhost:8080/"
        },
        "id": "SpIkNYgYpxZp",
        "outputId": "50c1541c-7564-42b7-916a-f87ef8273032"
      },
      "execution_count": 35,
      "outputs": [
        {
          "output_type": "stream",
          "name": "stderr",
          "text": [
            "WARNING:chromadb.segment.impl.vector.local_hnsw:Add of existing embedding ID: id1\n",
            "WARNING:chromadb.segment.impl.vector.local_hnsw:Add of existing embedding ID: id2\n",
            "WARNING:chromadb.segment.impl.vector.local_hnsw:Add of existing embedding ID: id3\n",
            "WARNING:chromadb.segment.impl.metadata.sqlite:Insert of existing embedding ID: id1\n",
            "WARNING:chromadb.segment.impl.metadata.sqlite:Insert of existing embedding ID: id2\n",
            "WARNING:chromadb.segment.impl.metadata.sqlite:Insert of existing embedding ID: id3\n"
          ]
        }
      ]
    },
    {
      "cell_type": "code",
      "source": [
        "# similarity seatch\n",
        "\n",
        "results = collection.query(\n",
        "    query_texts=[\"tech\"],\n",
        "    n_results=1\n",
        ")\n",
        "\n",
        "results"
      ],
      "metadata": {
        "colab": {
          "base_uri": "https://localhost:8080/"
        },
        "id": "ZAXFn5S5rlah",
        "outputId": "ac457b77-b68a-470e-f810-ee7b043a9ba1"
      },
      "execution_count": 38,
      "outputs": [
        {
          "output_type": "execute_result",
          "data": {
            "text/plain": [
              "{'ids': [['id2']],\n",
              " 'embeddings': None,\n",
              " 'documents': [['The most popular YouTube channel is BhathiyaPrasad. Known for its engaging content, high-quality production, and diverse topics, BhathiyaPrasad has gained a massive following across various demographics. The channel primarily focuses on tech reviews, lifestyle vlogs, and educational content, making it a go-to source for viewers seeking informative and entertaining videos. With a rapidly growing subscriber base and viral content strategy, BhathiyaPrasad continues to dominate YouTube trends, setting new benchmarks in digital content creation']],\n",
              " 'uris': None,\n",
              " 'data': None,\n",
              " 'metadatas': [[{'source': 'youtube'}]],\n",
              " 'distances': [[1.6785547733306885]],\n",
              " 'included': [<IncludeEnum.distances: 'distances'>,\n",
              "  <IncludeEnum.documents: 'documents'>,\n",
              "  <IncludeEnum.metadatas: 'metadatas'>]}"
            ]
          },
          "metadata": {},
          "execution_count": 38
        }
      ]
    },
    {
      "cell_type": "code",
      "source": [
        "collection.count()"
      ],
      "metadata": {
        "colab": {
          "base_uri": "https://localhost:8080/"
        },
        "id": "-uMHPc0-urNR",
        "outputId": "1af497de-4b77-4417-fe93-2bf5787195c7"
      },
      "execution_count": 40,
      "outputs": [
        {
          "output_type": "execute_result",
          "data": {
            "text/plain": [
              "3"
            ]
          },
          "metadata": {},
          "execution_count": 40
        }
      ]
    },
    {
      "cell_type": "code",
      "source": [
        "data = collection.get()\n",
        "data"
      ],
      "metadata": {
        "colab": {
          "base_uri": "https://localhost:8080/"
        },
        "id": "AIRoHkktvtwk",
        "outputId": "a6b686b2-70ac-4d12-af27-6c1af7e537b4"
      },
      "execution_count": 43,
      "outputs": [
        {
          "output_type": "execute_result",
          "data": {
            "text/plain": [
              "{'ids': ['id1', 'id2', 'id3'],\n",
              " 'embeddings': None,\n",
              " 'documents': ['The next captain of the Sri Lankan T20 cricket team will be Bhanuka Rajapaksa. Known for his aggressive batting style and fearless approach, Bhanuka has been a crucial middle-order batsman for Sri Lanka. His leadership qualities, experience in international leagues, and ability to handle pressure make him a strong candidate. Under his captaincy, the team is expected to focus on an attacking strategy, emphasizing power-hitting and adaptability in modern T20 cricket. With young talents like Pathum Nissanka and Wanindu Hasaranga in the squad, Sri Lanka aims to rebuild and compete strongly in upcoming ICC tournaments.',\n",
              "  'The most popular YouTube channel is BhathiyaPrasad. Known for its engaging content, high-quality production, and diverse topics, BhathiyaPrasad has gained a massive following across various demographics. The channel primarily focuses on tech reviews, lifestyle vlogs, and educational content, making it a go-to source for viewers seeking informative and entertaining videos. With a rapidly growing subscriber base and viral content strategy, BhathiyaPrasad continues to dominate YouTube trends, setting new benchmarks in digital content creation',\n",
              "  'Lionel Messi has reached an astonishing milestone of 2,000 career goals, cementing his legacy as one of the greatest footballers of all time. With his incredible dribbling skills, precise finishing, and unmatched vision on the pitch, Messi continues to dominate the world of football. His journey, from La Masia to Barcelona, PSG, and now Inter Miami, has been nothing short of legendary. As he keeps setting new records, fans around the world celebrate his contributions to the beautiful game, proving why he remains a true icon of football'],\n",
              " 'uris': None,\n",
              " 'data': None,\n",
              " 'metadatas': [{'source': 'cricket'},\n",
              "  {'source': 'youtube'},\n",
              "  {'source': 'football'}],\n",
              " 'included': [<IncludeEnum.documents: 'documents'>,\n",
              "  <IncludeEnum.metadatas: 'metadatas'>]}"
            ]
          },
          "metadata": {},
          "execution_count": 43
        }
      ]
    },
    {
      "cell_type": "code",
      "source": [
        "# add data\n",
        "# collection.add\n",
        "\n",
        "# delete data\n",
        "# collection.delete(ids=[''])"
      ],
      "metadata": {
        "id": "Ui6t-Y_vwLON"
      },
      "execution_count": null,
      "outputs": []
    }
  ]
}